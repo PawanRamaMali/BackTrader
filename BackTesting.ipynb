{
 "cells": [
  {
   "cell_type": "code",
   "execution_count": 2,
   "id": "6e2d9198-ecc9-444c-84cb-736d28ce0d88",
   "metadata": {},
   "outputs": [],
   "source": [
    "# pip install -i https://pypi.anaconda.org/ranaroussi/simple yfinance\n",
    "import yfinance as yf\n",
    "from sqlalchemy import create_engine\n",
    "import pandas as pd"
   ]
  },
  {
   "cell_type": "code",
   "execution_count": 23,
   "id": "eb428fd9-e855-4be3-a85f-c2b96c4faf05",
   "metadata": {},
   "outputs": [],
   "source": [
    "engine = create_engine('sqlite:///StockData.db')"
   ]
  },
  {
   "cell_type": "code",
   "execution_count": 3,
   "id": "c17f8679-f43a-49ee-a6e5-f42802f90a5a",
   "metadata": {},
   "outputs": [],
   "source": [
    "symbols = pd.read_html('https://en.wikipedia.org/wiki/Russell_1000_Index')"
   ]
  },
  {
   "cell_type": "code",
   "execution_count": 16,
   "id": "82744584-8f85-4ba2-b606-21ad03a0ee2f",
   "metadata": {},
   "outputs": [],
   "source": [
    "symbols = symbols[2].Ticker.to_list()"
   ]
  },
  {
   "cell_type": "code",
   "execution_count": 18,
   "id": "9bdd0464-5a3b-4bb1-93b6-2b666ed281f5",
   "metadata": {},
   "outputs": [
    {
     "data": {
      "text/plain": [
       "['TXG']"
      ]
     },
     "execution_count": 18,
     "metadata": {},
     "output_type": "execute_result"
    }
   ],
   "source": [
    "symbols[:1]"
   ]
  },
  {
   "cell_type": "code",
   "execution_count": 24,
   "id": "f8f336b2-806b-46e4-a5de-e8aa6b44154a",
   "metadata": {},
   "outputs": [
    {
     "name": "stdout",
     "output_type": "stream",
     "text": [
      "[*********************100%***********************]  1 of 1 completed\n",
      "[*********************100%***********************]  1 of 1 completed\n",
      "[*********************100%***********************]  1 of 1 completed\n",
      "[*********************100%***********************]  1 of 1 completed\n",
      "[*********************100%***********************]  1 of 1 completed\n",
      "[*********************100%***********************]  1 of 1 completed\n",
      "[*********************100%***********************]  1 of 1 completed\n",
      "[*********************100%***********************]  1 of 1 completed\n",
      "[*********************100%***********************]  1 of 1 completed\n",
      "[*********************100%***********************]  1 of 1 completed\n"
     ]
    }
   ],
   "source": [
    "for symbol in symbols[:10]:\n",
    "    df = yf.download(symbol,start=\"2015-01-01\", end = '2021-12-31')\n",
    "    df.to_sql(symbol, engine)"
   ]
  },
  {
   "cell_type": "code",
   "execution_count": 29,
   "id": "8ba75de4-2be9-437d-ae40-eab5f4e9ca08",
   "metadata": {},
   "outputs": [],
   "source": [
    "for symbol in symbols[:10]:\n",
    "    df = pd.read_sql(symbol,engine)\n",
    "    #print(df)"
   ]
  }
 ],
 "metadata": {
  "kernelspec": {
   "display_name": "Python 3 (ipykernel)",
   "language": "python",
   "name": "python3"
  },
  "language_info": {
   "codemirror_mode": {
    "name": "ipython",
    "version": 3
   },
   "file_extension": ".py",
   "mimetype": "text/x-python",
   "name": "python",
   "nbconvert_exporter": "python",
   "pygments_lexer": "ipython3",
   "version": "3.8.12"
  }
 },
 "nbformat": 4,
 "nbformat_minor": 5
}
